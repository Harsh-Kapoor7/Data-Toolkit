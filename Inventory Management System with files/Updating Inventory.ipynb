{
 "cells": [
  {
   "cell_type": "markdown",
   "id": "af965ac5",
   "metadata": {},
   "source": [
    "## <font color = 'red'><U> Overview</font></U>"
   ]
  },
  {
   "cell_type": "code",
   "execution_count": 21,
   "id": "1e4cbb2a",
   "metadata": {},
   "outputs": [],
   "source": [
    "fd = open('Inventory.txt', 'r')\n",
    "products = fd.read().split('\\n')\n",
    "fd.close()"
   ]
  },
  {
   "cell_type": "code",
   "execution_count": 22,
   "id": "fb5d5383",
   "metadata": {},
   "outputs": [
    {
     "data": {
      "text/plain": [
       "['1, 5 Star, 10, 50',\n",
       " '2, Milky Bar, 5, 100',\n",
       " '3, Cake, 300, 50',\n",
       " '4, Candy, 1, 200']"
      ]
     },
     "execution_count": 22,
     "metadata": {},
     "output_type": "execute_result"
    }
   ],
   "source": [
    "products"
   ]
  },
  {
   "cell_type": "markdown",
   "id": "8fea4545",
   "metadata": {},
   "source": [
    "## <font color = 'red'><U>Product Details</font></U>"
   ]
  },
  {
   "cell_type": "code",
   "execution_count": 23,
   "id": "0cfa5ee8",
   "metadata": {},
   "outputs": [
    {
     "name": "stdout",
     "output_type": "stream",
     "text": [
      "['1', ' 5 Star', ' 10', ' 50']\n",
      "['2', ' Milky Bar', ' 5', ' 100']\n",
      "['3', ' Cake', ' 300', ' 50']\n",
      "['4', ' Candy', ' 1', ' 200']\n"
     ]
    }
   ],
   "source": [
    "for product in products:\n",
    "    print(product.split(','))"
   ]
  },
  {
   "cell_type": "code",
   "execution_count": 30,
   "id": "3e998037",
   "metadata": {},
   "outputs": [
    {
     "name": "stdout",
     "output_type": "stream",
     "text": [
      "Enter product ID: 3\n",
      "Enter product Quantity: 25\n",
      "-----------------------------\n",
      "Product Name     :   Cake\n",
      "Price            :   300\n",
      "Quantity         :  25\n",
      "-----------------------------\n",
      "Billing Amount   :  7500\n",
      "-----------------------------\n",
      "-------------------\n",
      "Inventory Updated\n"
     ]
    },
    {
     "data": {
      "text/plain": [
       "[['1', ' 5 Star', ' 10', '5'],\n",
       " ['2', ' Milky Bar', ' 5', '0'],\n",
       " ['3', ' Cake', ' 300', '25'],\n",
       " ['4', ' Candy', ' 1', ' 200']]"
      ]
     },
     "execution_count": 30,
     "metadata": {},
     "output_type": "execute_result"
    }
   ],
   "source": [
    "# Reading the Inventory\n",
    "fd = open('Inventory.txt','r')  \n",
    "products = fd.read().split('\\n')\n",
    "fd.close()\n",
    "\n",
    "# Taking User Input\n",
    "ui_prod_id = input(\"Enter product ID: \")\n",
    "ui_prod_qn = input(\"Enter product Quantity: \")\n",
    "\n",
    "updated_product_lst = []\n",
    "\n",
    "# Going through each product detail\n",
    "for product in products:\n",
    "    \n",
    "    prod_details = product.split(',')\n",
    "    \n",
    "    if(prod_details[0] == ui_prod_id):\n",
    "    # Checking if product exists or not\n",
    "\n",
    "        if (int(ui_prod_qn) <= int(prod_details[3])):\n",
    "        # If we're having enough quantity\n",
    "        \n",
    "            print(\"-----------------------------\")\n",
    "            print(\"Product Name     : \", prod_details[1])\n",
    "            print(\"Price            : \", prod_details[2]) \n",
    "            print(\"Quantity         : \", ui_prod_qn) \n",
    "            print(\"-----------------------------\")\n",
    "            print(\"Billing Amount   : \", int(ui_prod_qn) * int(prod_details[2]))\n",
    "            print(\"-----------------------------\")\n",
    "\n",
    "            prod_details[3] = str(int(prod_details[3]) - int(ui_prod_qn))\n",
    "            \n",
    "        else:\n",
    "        # If we're not having enough quantity\n",
    "            \n",
    "            print()\n",
    "            print(\"Sorry, We're not having enought quantity.\")\n",
    "            print(\"We're having only\",prod_details[3],'quantity.')\n",
    "            print(\"Would you like to purchase it?\")\n",
    "            \n",
    "            ch = input(\"Press Y/N: \")\n",
    "            \n",
    "            if (ch == 'Y' or ch == 'y'):\n",
    "            # If you want to purchase with remaining quantity\n",
    "            \n",
    "                print(\"-----------------------------\")\n",
    "                print(\"Product Name     : \", prod_details[1])\n",
    "                print(\"Price            : \", prod_details[2]) \n",
    "                print(\"Quantity         : \", prod_details[3]) \n",
    "                print(\"-----------------------------\")\n",
    "                print(\"Billing Amount   : \", int(prod_details[3]) * int(prod_details[2]))\n",
    "                print(\"-----------------------------\")\n",
    "\n",
    "                prod_details[3] = '0'\n",
    "\n",
    "            else:\n",
    "                print(\"Thanks\")\n",
    "            \n",
    "    # Updating my Inventory List\n",
    "    updated_product_lst.append(prod_details)\n",
    "    \n",
    "lst = []\n",
    "\n",
    "# Updating my Inventory String\n",
    "for i in updated_product_lst:\n",
    "    prod = i[0] +\",\"+  i[1] +\",\"+ i[2] +\",\"+ i[3] + '\\n'\n",
    "    lst.append(prod)\n",
    "lst[-1] = lst[-1][:-1]\n",
    "    \n",
    "# Updating Inventory File\n",
    "fd = open('Inventory.txt','w')\n",
    "\n",
    "for i in lst:\n",
    "    fd.write(i)\n",
    "\n",
    "fd.close()\n",
    "\n",
    "print(\"-------------------\")\n",
    "print(\"Inventory Updated\")\n",
    "updated_product_lst"
   ]
  },
  {
   "cell_type": "code",
   "execution_count": null,
   "id": "4d6ee8ee",
   "metadata": {},
   "outputs": [],
   "source": []
  }
 ],
 "metadata": {
  "kernelspec": {
   "display_name": "Python 3 (ipykernel)",
   "language": "python",
   "name": "python3"
  },
  "language_info": {
   "codemirror_mode": {
    "name": "ipython",
    "version": 3
   },
   "file_extension": ".py",
   "mimetype": "text/x-python",
   "name": "python",
   "nbconvert_exporter": "python",
   "pygments_lexer": "ipython3",
   "version": "3.9.7"
  }
 },
 "nbformat": 4,
 "nbformat_minor": 5
}
